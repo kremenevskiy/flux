{
 "cells": [
  {
   "cell_type": "code",
   "execution_count": 11,
   "id": "922bc03f-e338-4498-8948-70007a22602b",
   "metadata": {},
   "outputs": [],
   "source": [
    "import easyocr\n",
    "import cv2\n",
    "import matplotlib.pyplot as plt\n",
    "\n",
    "\n",
    "import requests\n",
    "from pathlib import Path\n",
    "import matplotlib.pyplot as plt\n",
    "from PIL import Image\n",
    "import uuid\n",
    "import hashlib\n",
    "\n",
    "import os\n",
    "import matplotlib.pyplot as plt\n",
    "\n",
    "\n",
    "import torch\n",
    "from PIL import Image\n",
    "from rembg import new_session, remove\n",
    "from torchvision import transforms\n",
    "from transformers import AutoModelForImageSegmentation"
   ]
  },
  {
   "cell_type": "code",
   "execution_count": 12,
   "id": "db8d8710-a5e4-424a-a997-22b91bd05ac5",
   "metadata": {},
   "outputs": [],
   "source": [
    "FLUX_SERVER_ENDPOINT = 'http://192.165.134.27:22186/flux-generate-image'\n",
    "FLUX_SERVER_ENDPOINT = 'http://127.0.0.1:11234/flux-generate-image'\n",
    "FLUX_TIMEOUT = 300\n",
    "save_dir = 'data_prize_words/generated'\n",
    "Path(save_dir).mkdir(parents=True, exist_ok=True)"
   ]
  },
  {
   "cell_type": "code",
   "execution_count": 13,
   "id": "79fece93-aafa-4a9a-8285-cf07790de596",
   "metadata": {},
   "outputs": [],
   "source": [
    "def get_hash_from_uuid(hash_val: str | None = None, hash_len: int = 5) -> str:\n",
    "    # Generate a UUID4 and convert it to a string\n",
    "    if not hash_val:\n",
    "        hash_val = str(uuid.uuid4())\n",
    "\n",
    "    # Hash the UUID string using SHA-256\n",
    "    hash_object = hashlib.sha256(hash_val.encode())\n",
    "    hex_dig = hash_object.hexdigest()\n",
    "    return hex_dig[:hash_len]"
   ]
  },
  {
   "cell_type": "code",
   "execution_count": 14,
   "id": "93407af1-b321-4548-837d-95babc18fa1d",
   "metadata": {},
   "outputs": [],
   "source": [
    "def flux_get_image_from_prompt(\n",
    "    prompt: str,\n",
    "    save_path: str,\n",
    "    resolution: tuple | None = None,\n",
    "    num_inference_steps: int = 28,\n",
    "    guidance_scale: float = 3.5,\n",
    "    seed: int = 24,\n",
    ") -> str:\n",
    "    resolution = resolution if resolution else (1024, 1024)\n",
    "    width, height = resolution\n",
    "    data = {\n",
    "        'prompt': prompt,\n",
    "        'width': width,\n",
    "        'height': height,\n",
    "        'seed': seed,\n",
    "        'num_inference_steps': num_inference_steps,\n",
    "        'guidance_scale': guidance_scale,\n",
    "    }\n",
    "\n",
    "    response = requests.post(\n",
    "        FLUX_SERVER_ENDPOINT,\n",
    "        data=data,\n",
    "        timeout=FLUX_TIMEOUT,\n",
    "    )\n",
    "\n",
    "    if response.status_code == 200:\n",
    "        with Path(save_path).open('wb') as output_file:\n",
    "            output_file.write(response.content)\n",
    "\n",
    "        return save_path\n",
    "    raise ValueError(f'Bad response from FLUX API. Status code: {response.status_code}')"
   ]
  },
  {
   "cell_type": "code",
   "execution_count": 15,
   "id": "191ff29b-d5ce-4b1b-87cd-4b25c4a3a9af",
   "metadata": {},
   "outputs": [],
   "source": [
    "def generate_single_image(prompt, gen_params):\n",
    "    unique_save_path = Path(save_dir) / f\"{get_hash_from_uuid(hash_val=prompt)}.png\"\n",
    "    generated_image_path = flux_get_image_from_prompt(prompt=prompt, save_path=unique_save_path, **gen_params)\n",
    "    return generated_image_path"
   ]
  },
  {
   "cell_type": "markdown",
   "id": "daa90158-5c85-40a7-9f96-25d27cbf5f99",
   "metadata": {},
   "source": [
    "## Segmentation"
   ]
  },
  {
   "cell_type": "code",
   "execution_count": 16,
   "id": "01b15e07-23a7-45ef-8dc9-abe91d297769",
   "metadata": {},
   "outputs": [],
   "source": [
    "def remove_background_from_symbol(src: str, dest: str) -> None:\n",
    "    torch.set_float32_matmul_precision('high')\n",
    "\n",
    "    device: str = 'cuda' if torch.cuda.is_available() else 'cpu'\n",
    "    model: torch.nn.Module = AutoModelForImageSegmentation.from_pretrained(\n",
    "        'briaai/RMBG-2.0', trust_remote_code=True\n",
    "    )\n",
    "\n",
    "    model.to(device)\n",
    "    model.eval()\n",
    "\n",
    "    to_pillow: transforms.ToPILImage = transforms.ToPILImage()\n",
    "\n",
    "    transform_image: transforms.Compose = transforms.Compose(\n",
    "        [\n",
    "            transforms.Resize((1024, 1024)),\n",
    "            transforms.ToTensor(),\n",
    "        ]\n",
    "    )\n",
    "\n",
    "    img = Image.open(src)\n",
    "    input_img: torch.Tensor = transform_image(img).unsqueeze(0).to(device)\n",
    "\n",
    "    with torch.no_grad():\n",
    "        mask: torch.Tensor = model(input_img)[-1].sigmoid()[0].squeeze().cpu()\n",
    "\n",
    "    img.putalpha(to_pillow(mask).resize(img.size))\n",
    "    img.save(dest)"
   ]
  },
  {
   "cell_type": "markdown",
   "id": "509f66bb-c573-4ad5-abeb-6845356f3b40",
   "metadata": {},
   "source": [
    "## Word detection"
   ]
  },
  {
   "cell_type": "code",
   "execution_count": 10,
   "id": "42f95bf8-4d45-496d-b8e4-b323d7244cf2",
   "metadata": {},
   "outputs": [],
   "source": [
    "def detect_multi_words(image_path: str, new_width=500, new_height=500):\n",
    "    image = cv2.imread(image_path)\n",
    "    image = cv2.resize(image, (new_width, new_height), interpolation=cv2.INTER_LINEAR)\n",
    "    gray = cv2.cvtColor(image, cv2.COLOR_BGR2GRAY)\n",
    "    \n",
    "    reader = easyocr.Reader(['en'])\n",
    "    results = reader.readtext(gray)\n",
    "\n",
    "    processed_results = []\n",
    "    for bbox, text, prob in results:\n",
    "        words = text.split()\n",
    "        if len(words) > 1:\n",
    "            x_min = min([point[0] for point in bbox])\n",
    "            x_max = max([point[0] for point in bbox])\n",
    "            y_min = min([point[1] for point in bbox])\n",
    "            y_max = max([point[1] for point in bbox])\n",
    "            \n",
    "            width_per_word = (x_max - x_min) // len(words)\n",
    "            \n",
    "            for i, word in enumerate(words):\n",
    "                new_bbox = [[x_min + i * width_per_word, y_min], \n",
    "                            [x_min + (i + 1) * width_per_word, y_min],\n",
    "                            [x_min + (i + 1) * width_per_word, y_max], \n",
    "                            [x_min + i * width_per_word, y_max]]\n",
    "                processed_results.append((word, new_bbox, prob / len(words)))\n",
    "        else:\n",
    "            processed_results.append((text, bbox, prob))\n",
    "    \n",
    "    return processed_results, image"
   ]
  },
  {
   "cell_type": "code",
   "execution_count": 23,
   "id": "052e9eba-d14a-4b3b-9693-688afeaf0a4c",
   "metadata": {},
   "outputs": [],
   "source": [
    "def save_cropped_words(image, detected_words, output_folder=\"cropped_words\"):\n",
    "\n",
    "    # Create output folder if it doesn’t exist\n",
    "    if not os.path.exists(output_folder):\n",
    "        os.makedirs(output_folder)\n",
    "\n",
    "    cropped_images = []\n",
    "\n",
    "    # Iterate through detected words and crop them\n",
    "    dir_to_save = Path(output_folder) / get_hash_from_uuid(hash_len=3)\n",
    "    Path(dir_to_save).mkdir(parents=True, exist_ok=True)\n",
    "    for i, (word, bbox, prob) in enumerate(detected_words):\n",
    "        # Ensure correct bounding box extraction\n",
    "        x_min = int(min(point[0] for point in bbox))\n",
    "        x_max = int(max(point[0] for point in bbox))\n",
    "        y_min = int(min(point[1] for point in bbox))\n",
    "        y_max = int(max(point[1] for point in bbox))\n",
    "\n",
    "        # Ensure coordinates are within the image bounds\n",
    "        x_min = max(0, x_min)\n",
    "        y_min = max(0, y_min)\n",
    "        x_max = min(image.shape[1], x_max)\n",
    "        y_max = min(image.shape[0], y_max)\n",
    "\n",
    "        # Prevent invalid cropping\n",
    "        if x_max > x_min and y_max > y_min:\n",
    "            cropped = image[y_min:y_max, x_min:x_max]            \n",
    "            filename = f\"{dir_to_save}/{word}_{i}.png\"\n",
    "            cv2.imwrite(filename, cropped)\n",
    "\n",
    "            # Store cropped image for visualization\n",
    "            cropped_images.append((word, cropped, filename))\n",
    "            \n",
    "            remove_background_from_symbol(filename, filename)\n",
    "\n",
    "    return str(dir_to_save)"
   ]
  },
  {
   "cell_type": "code",
   "execution_count": null,
   "id": "92378c46-6869-4801-a52f-33f1a542dd16",
   "metadata": {},
   "outputs": [],
   "source": []
  },
  {
   "cell_type": "code",
   "execution_count": 21,
   "id": "3ea2c6f1-e5ca-479e-b597-44ebb051eab8",
   "metadata": {},
   "outputs": [],
   "source": [
    "def generate_words(prompt):\n",
    "    gen_params = {\n",
    "        'num_inference_steps': 30, \n",
    "        'guidance_scale': 10.0,\n",
    "        'seed': 2,\n",
    "        'resolution': (1024, 1024)\n",
    "    }\n",
    "    image_path = generate_single_image(prompt=prompt, gen_params=gen_params)\n",
    "    print(f'Generated image path: {image_path}')\n",
    "    detected_words, image = detect_multi_words(image_path)\n",
    "    saved_dir_path = save_cropped_words(image, detected_words)\n",
    "    \n",
    "    print(f\"Saved to: {saved_dir_path}\")    "
   ]
  },
  {
   "cell_type": "markdown",
   "id": "12c3be24-c35d-45a6-a245-9b0ed446c4c9",
   "metadata": {},
   "source": [
    "### Anime"
   ]
  },
  {
   "cell_type": "code",
   "execution_count": 22,
   "id": "282d5284-04d4-40b2-afe9-ea1c7dd6aea3",
   "metadata": {},
   "outputs": [
    {
     "name": "stdout",
     "output_type": "stream",
     "text": [
      "Generated image path: data_prize_words/generated/930c0.png\n",
      "134 370 38 160\n"
     ]
    },
    {
     "name": "stderr",
     "output_type": "stream",
     "text": [
      "/root/flux/venv-flux/lib/python3.11/site-packages/timm/models/layers/__init__.py:48: FutureWarning: Importing from timm.models.layers is deprecated, please import via timm.layers\n",
      "  warnings.warn(f\"Importing from {__name__} is deprecated, please import via timm.layers\", FutureWarning)\n",
      "/root/flux/venv-flux/lib/python3.11/site-packages/timm/models/registry.py:4: FutureWarning: Importing from timm.models.registry is deprecated, please import via timm.models\n",
      "  warnings.warn(f\"Importing from {__name__} is deprecated, please import via timm.models\", FutureWarning)\n"
     ]
    },
    {
     "name": "stdout",
     "output_type": "stream",
     "text": [
      "72 439 162 313\n",
      "52 463 326 461\n",
      "Saved to: cropped_words/58d\n"
     ]
    }
   ],
   "source": [
    "words_prompts = f\"\"\"\n",
    "A high-resolution typography design featuring the words ‘MINI’, ‘MINOR’, and ‘MAJOR’ in a bold, anime-style font, each word placed separately with clear empty space around it. The words are not touching or overlapping, ensuring they stand alone with well-balanced white space between them. The typography embodies the energetic, dynamic, and eye-catching aesthetic of Japanese anime title designs, inspired by shonen action series, mecha anime, and high-energy opening sequences. The font is bold, exaggerated, and slightly angled, with sharp edges, thick strokes, and a fast-paced, electric feel.\n",
    "The colors remain vibrant and high-contrast, featuring neon pinks, electric blues, fiery reds, and golden yellows, capturing the intensity and excitement of anime visuals. Each word is outlined individually, without overlapping strokes or elements from other words. No motion lines or speed effects connecting the words—each is completely isolated, floating independently in the design.\n",
    "The background remains fully white, ensuring that the typography pops with an intense, anime-inspired visual impact while maintaining clean separation between words. No additional symbols or elements—just pure anime-style typography, where each word stands alone in a well-spaced, high-energy composition.\n",
    "\"\"\"\n",
    "\n",
    "generate_words(prompt=words_prompts)"
   ]
  },
  {
   "cell_type": "markdown",
   "id": "de9b645b-ee42-4002-82db-03615be03c31",
   "metadata": {},
   "source": [
    "### Spanch Bob"
   ]
  },
  {
   "cell_type": "code",
   "execution_count": 24,
   "id": "e6c15daa-47b3-41dd-80a5-275baaf84612",
   "metadata": {},
   "outputs": [
    {
     "name": "stdout",
     "output_type": "stream",
     "text": [
      "Generated image path: data_prize_words/generated/13578.png\n",
      "Saved to: cropped_words/3ff\n"
     ]
    }
   ],
   "source": [
    "words_prompts = f\"\"\"\n",
    "A high-resolution typography design featuring the words ‘MINI’, ‘MINOR’, and ‘MAJOR’ in a bold, SpongeBob-style font, each word placed separately with clear empty space around it. The words are not touching or overlapping, ensuring they stand alone with well-balanced white space between them.\n",
    "\n",
    "The typography embodies the wacky, playful, and bubbly aesthetic of the SpongeBob SquarePants universe, inspired by oceanic themes, underwater adventures, and cartoonish fun. The font is bouncy, wobbly, and slightly irregular, with a hand-drawn, organic feel, making the letters look as if they are floating underwater.\n",
    "\n",
    "The colors are bright, tropical, and lively, featuring sunny yellows, ocean blues, coral oranges, and sandy beiges, evoking the vibrant world of Bikini Bottom. Each word has a thick, bold outline and may include bubble-like textures, wavy distortions, or soft, squishy edges to enhance the underwater, fun-loving aesthetic.\n",
    "\n",
    "The background remains fully white, ensuring that the typography pops vividly while maintaining a clean separation between words. No additional symbols or elements—just pure SpongeBob-style typography, where each word stands alone in a whimsical, cartoonish, and high-energy composition.\n",
    "\"\"\"\n",
    "\n",
    "generate_words(prompt=words_prompts)"
   ]
  },
  {
   "cell_type": "markdown",
   "id": "ba7332a8-a867-4ef0-8dbd-c074f580ef19",
   "metadata": {},
   "source": [
    "### USA"
   ]
  },
  {
   "cell_type": "code",
   "execution_count": 25,
   "id": "403c0145-ffea-47b9-b3c4-a10160876ab3",
   "metadata": {},
   "outputs": [
    {
     "name": "stdout",
     "output_type": "stream",
     "text": [
      "Generated image path: data_prize_words/generated/33bfa.png\n",
      "Saved to: cropped_words/1fa\n"
     ]
    }
   ],
   "source": [
    "words_prompts = f\"\"\"\n",
    "A high-resolution typography design featuring the words ‘MINI’, ‘MINOR’, and ‘MAJOR’ in a bold, USA-style font, each word placed separately with clear empty space around it. The words are not touching or overlapping, ensuring they stand alone with well-balanced white space between them.\n",
    "\n",
    "The typography embodies the patriotic, powerful, and bold aesthetic of American culture, inspired by classic American sports lettering, national pride, and vintage USA signage. The font is strong, blocky, and all-caps, with a varsity, collegiate, or bold sans-serif style, reminiscent of American football jerseys, political banners, or iconic USA logos.\n",
    "\n",
    "The colors are red, white, and blue, representing the American flag, with deep navy blues, bold crimson reds, and crisp whites. Each word is outlined individually with a thick, high-contrast stroke, giving it a clean, structured look. Subtle star patterns, stripes, or a slight 3D effect may enhance the design, evoking the pride and energy of American themes.\n",
    "\n",
    "The background remains fully white, ensuring that the typography pops vividly while maintaining a strong, patriotic presence. No additional symbols or elements—just pure USA-inspired typography, where each word stands alone in a bold, high-energy, and pride-filled composition.\n",
    "\"\"\"\n",
    "\n",
    "generate_words(prompt=words_prompts)"
   ]
  },
  {
   "cell_type": "markdown",
   "id": "cde7ac69-7b36-4411-9fc8-164e94705c72",
   "metadata": {},
   "source": [
    "### Egyptian"
   ]
  },
  {
   "cell_type": "code",
   "execution_count": 26,
   "id": "812055a1-e0af-4f3b-8ddd-216e3b88a935",
   "metadata": {},
   "outputs": [
    {
     "name": "stdout",
     "output_type": "stream",
     "text": [
      "Generated image path: data_prize_words/generated/e37c3.png\n",
      "Saved to: cropped_words/72e\n"
     ]
    }
   ],
   "source": [
    "words_prompts = f\"\"\"\n",
    "A high-resolution typography design featuring the words ‘MINI’, ‘MINOR’, and ‘MAJOR’ in a bold, Egyptian-inspired font, each word placed separately with clear empty space around it. The words are not touching or overlapping, ensuring they stand alone with well-balanced white space between them.\n",
    "The typography embodies the mystical, ancient, and regal aesthetic of Egyptian civilization, inspired by hieroglyphic inscriptions, pharaonic stone carvings, and golden tomb engravings. The font is ornate and angular, with bold, structured letterforms featuring subtle curves and embellishments reminiscent of ancient Egyptian scripts. Some characters may have hieroglyphic-like extensions, decoative serifs, or a slightly weathered texture, enhancing the historic and mystical appearance.\n",
    "The colors are rich and opulent, featuring deep gold, warm sandstone beige, and lapis lazuli blue, evoking the luxury of the pharaohs, the golden treasures of Tutankhamun, and the sacred stones of ancient temples. Each word has a thick, bold outline with subtle engravings or a chiseled effect, making the letters appear as if they are carved into an ancient monument or painted on a temple wall.\n",
    "The background remains fully white, ensuring that the typography pops vividly while maintaining a clean, regal presence. No additional symbols or elements—just pure Egyptian-style typography, where each word stands alone in a timeless, mystical, and historically inspired composition.\n",
    "\"\"\"\n",
    "\n",
    "generate_words(prompt=words_prompts)"
   ]
  },
  {
   "cell_type": "markdown",
   "id": "a6ed4a19-b7d3-44f8-a0c4-713b42527266",
   "metadata": {},
   "source": [
    "### Harry Potter"
   ]
  },
  {
   "cell_type": "code",
   "execution_count": 27,
   "id": "63ccb796-5519-47f8-a655-23857cd27a1c",
   "metadata": {},
   "outputs": [
    {
     "name": "stdout",
     "output_type": "stream",
     "text": [
      "Generated image path: data_prize_words/generated/19e6c.png\n",
      "Saved to: cropped_words/96d\n"
     ]
    }
   ],
   "source": [
    "words_prompts = f\"\"\"\n",
    "A high-resolution typography design featuring the words ‘MINI’, ‘MINOR’, and ‘MAJOR’ in a bold, Harry Potter-inspired font, each word placed separately with clear empty space around it. The words are not touching or overlapping, ensuring they stand alone with well-balanced white space between them.\n",
    "The typography embodies the mystical, gothic, and enchanted aesthetic of the Harry Potter universe, inspired by ancient spellbooks, wizarding school inscriptions, and magical artifacts. The font is ornate, slightly elongated, and gothic-styled, with sharp, lightning-like serifs, flowing curves, and an old-world, medieval charm. Some letters may have wand-like extensions, flickering edges, or a subtle distressed texture, enhancing the magical, spellbinding effect.\n",
    "The colors are deep and mysterious, featuring golden enchantments, dark midnight blues, smoky grays, and rich burgundy hues, evoking the magical aura of Hogwarts, enchanted scrolls, and wizard robes. Each word is outlined individually with a glowing, mystical aura or a soft golden shimmer, adding a spell-casting presence. Subtle floating sparkles, swirling mist, or lightning-inspired accents may enhance the typography, giving it the feel of a legendary incantation.\n",
    "The background remains fully white, ensuring that the typography pops vividly while maintaining a magical and mysterious elegance. No additional symbols or elements—just pure Harry Potter-style typography, where each word stands alone in a well-spaced, enchanted, and wizardly composition.\n",
    "\"\"\"\n",
    "\n",
    "generate_words(prompt=words_prompts)"
   ]
  },
  {
   "cell_type": "markdown",
   "id": "5adaa535-1d22-4057-9213-3ebf0b5fc29e",
   "metadata": {},
   "source": [
    "### Magic Forest"
   ]
  },
  {
   "cell_type": "code",
   "execution_count": 28,
   "id": "12f9b040-74e8-4886-9b51-3a48a0b3ec71",
   "metadata": {},
   "outputs": [
    {
     "name": "stdout",
     "output_type": "stream",
     "text": [
      "Generated image path: data_prize_words/generated/9dafb.png\n",
      "Saved to: cropped_words/742\n"
     ]
    }
   ],
   "source": [
    "words_prompts = f\"\"\"\n",
    "A high-resolution typography design featuring the words ‘MINI’, ‘MINOR’, and ‘MAJOR’ in a bold, enchanted Magic Forest-inspired font, each word placed separately with clear empty space around it. The words are not touching or overlapping, ensuring they stand alone with well-balanced white space between them.\n",
    "The typography embodies the mystical, ethereal, and whimsical aesthetic of an enchanted forest, inspired by ancient woodland myths, fairy tales, and magical nature realms. The font is organic and slightly twisted, with elegant flourishes, vine-like extensions, and curving, nature-inspired strokes. Some letters may have leafy tendrils, roots curling around the edges, or subtle glowing highlights, evoking the presence of deep forest magic.\n",
    "The colors are earthy and luminous, featuring emerald greens, twilight purples, soft mossy browns, and shimmering moonlight silvers, capturing the dreamlike atmosphere of glowing fungi, enchanted trees, and mystical woodland spirits. Each word is outlined individually with a subtle glow, giving the effect of bioluminescent plants or magical fireflies softly illuminating the letters. Delicate misty swirls, scattered fairy dust, or faint rune-like engravings may enhance the typography, giving it a sense of otherworldly wonder and ancient magic.\n",
    "The background remains fully white, ensuring that the typography pops vividly while maintaining a dreamy and enchanted presence. No additional symbols or elements—just pure Magic Forest-style typography, where each word stands alone in a well-spaced, mystical, and nature-inspired composition.\n",
    "\"\"\"\n",
    "\n",
    "generate_words(prompt=words_prompts)"
   ]
  },
  {
   "cell_type": "markdown",
   "id": "6edbb30c-2a34-40bf-8bda-8a2bf9abee2e",
   "metadata": {},
   "source": [
    "### Retro Cars"
   ]
  },
  {
   "cell_type": "code",
   "execution_count": 29,
   "id": "93b79f69-2ed4-4d29-bf68-b50b4af9f8cd",
   "metadata": {},
   "outputs": [
    {
     "name": "stdout",
     "output_type": "stream",
     "text": [
      "Generated image path: data_prize_words/generated/2414d.png\n",
      "Saved to: cropped_words/777\n"
     ]
    }
   ],
   "source": [
    "words_prompts = f\"\"\"\n",
    "A high-resolution typography design featuring the words ‘MINI’, ‘MINOR’, and ‘MAJOR’ in a bold, retro cars-inspired font, each word placed separately with clear empty space around it. The words are not touching or overlapping, ensuring they stand alone with well-balanced white space between them.\n",
    "The typography embodies the sleek, bold, and nostalgic aesthetic of classic vintage automobiles, inspired by 1950s and 1960s car emblems, racing decals, and chrome-plated badges. The font is smooth, dynamic, and slightly slanted, with sharp edges and stylish curves, reminiscent of vintage car branding and retro speedometers. Some letters may have italicized motion streaks, Art Deco-inspired serifs, or a sleek aerodynamic flow, mimicking the elegance of mid-century automobiles.\n",
    "The colors are bold and high-contrast, featuring chrome silvers, deep reds, classic blues, and rich blacks, evoking the luxurious paint finishes and metallic trims of vintage muscle cars and convertibles. Each word is outlined individually with a glossy, reflective sheen or a metallic gradient, giving it the feel of a classic car logo. Optional subtle textures like checkered racing stripes, neon glow edges, or polished metal reflections may enhance the typography, adding to its nostalgic, high-speed appeal.\n",
    "The background remains fully white, ensuring that the typography pops vividly while maintaining a sleek and stylish presence. No additional symbols or elements—just pure Retro Cars-style typography, where each word stands alone in a well-spaced, vintage, and automobile-inspired composition.\n",
    "\"\"\"\n",
    "\n",
    "generate_words(prompt=words_prompts)"
   ]
  },
  {
   "cell_type": "code",
   "execution_count": null,
   "id": "0e6b4595-67ac-425a-9b81-af1f50645200",
   "metadata": {},
   "outputs": [],
   "source": []
  }
 ],
 "metadata": {
  "kernelspec": {
   "display_name": "Python 3 (ipykernel)",
   "language": "python",
   "name": "python3"
  },
  "language_info": {
   "codemirror_mode": {
    "name": "ipython",
    "version": 3
   },
   "file_extension": ".py",
   "mimetype": "text/x-python",
   "name": "python",
   "nbconvert_exporter": "python",
   "pygments_lexer": "ipython3",
   "version": "3.11.9"
  }
 },
 "nbformat": 4,
 "nbformat_minor": 5
}
