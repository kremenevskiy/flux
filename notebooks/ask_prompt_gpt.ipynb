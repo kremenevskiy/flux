{
 "cells": [
  {
   "cell_type": "code",
   "execution_count": 9,
   "id": "219fec5a-b9b1-4174-b20c-4b090795f1f4",
   "metadata": {
    "execution": {
     "iopub.execute_input": "2024-11-11T14:48:35.188164Z",
     "iopub.status.busy": "2024-11-11T14:48:35.187794Z",
     "iopub.status.idle": "2024-11-11T14:48:35.192138Z",
     "shell.execute_reply": "2024-11-11T14:48:35.191432Z",
     "shell.execute_reply.started": "2024-11-11T14:48:35.188132Z"
    }
   },
   "outputs": [],
   "source": [
    "from pipeline.external_api import gpt_api\n",
    "from pipeline.external_api import gpt_prompts\n",
    "import json"
   ]
  },
  {
   "cell_type": "code",
   "execution_count": 2,
   "id": "e320a6ef-3a21-4114-9bfd-ecef95703d4e",
   "metadata": {
    "execution": {
     "iopub.execute_input": "2024-11-11T14:46:46.291257Z",
     "iopub.status.busy": "2024-11-11T14:46:46.291134Z",
     "iopub.status.idle": "2024-11-11T14:46:46.310747Z",
     "shell.execute_reply": "2024-11-11T14:46:46.310405Z",
     "shell.execute_reply.started": "2024-11-11T14:46:46.291243Z"
    }
   },
   "outputs": [],
   "source": [
    "gpt = gpt_api.GptApi()"
   ]
  },
  {
   "cell_type": "code",
   "execution_count": 3,
   "id": "e09f2687-569e-4579-8259-d212b01d79a0",
   "metadata": {
    "execution": {
     "iopub.execute_input": "2024-11-11T14:46:46.311255Z",
     "iopub.status.busy": "2024-11-11T14:46:46.311135Z",
     "iopub.status.idle": "2024-11-11T14:46:46.315402Z",
     "shell.execute_reply": "2024-11-11T14:46:46.315052Z",
     "shell.execute_reply.started": "2024-11-11T14:46:46.311242Z"
    }
   },
   "outputs": [
    {
     "data": {
      "text/plain": [
       "'\\nYou are a creative prompt generator specializing in designing prompts for specific words in various artistic styles. \\nYour task is to create detailed prompts that describe how to visually represent a given word in a specified style, \\nsuitable for use in tools like Flux ControlNet.\\n\\n- For each word and style combination, provide a prompt that specifies:\\n  - The word in a visually descriptive way, fitting the style.\\n  - The main colors, textures, or elements that fit the theme.\\n  - Any background or decorative elements that enhance the look.\\n  - **Ensure that the background is always fully white** to keep the design clean and focused on the text.\\n  - Keep the prompts concise, vivid, and creative.\\n\\nExamples:\\n\\n1. **Input**:\\n  **Word**: \"Mega\" | **Style**: \"Shrek Movie\"\\n  **Output**:\\n  ```json\\n  {\"word\": \"Mega\", \"style\": \"Shrek Movie\", \"prompt\": \"Generate a large, bold \\'Mega\\' text inspired by the whimsical style of Shrek. The text should be a bright, swampy green, with cartoonish, three-dimensional letters resembling mossy stone or carved wood. Include tiny vines, leaves, and mud splatters around the letters, giving it an enchanted, fairy-tale feel. The background should be fully white, allowing the green, earthy text to pop and capture the magical, rustic world of Shrek.\"}\\n  ```\\n\\n1. **Input**:\\n  **Word**: \"Mini\" | **Style**: \"Star Wars\"\\n  **Output**:\\n  ```json\\n  {\"word\": \"Mini\", \"style\": \"Star Wars\", \"prompt\": \"Create a \\'Mini\\' text in the style of Star Wars. The text should have a sleek, sci-fi font in metallic silver with a slight blue glow, giving it a futuristic feel. Surround the text with subtle star-like sparkles and a faint galaxy backdrop for a cosmic effect. The background should be fully white to make the sci-fi text pop and keep the focus on the design.\"}\\n  ```\\nEnsure each prompt is creative, vividly describes the style, and includes a fully white background.\\n'"
      ]
     },
     "execution_count": 3,
     "metadata": {},
     "output_type": "execute_result"
    }
   ],
   "source": [
    "gpt_prompts.system_promt_for_prize_words"
   ]
  },
  {
   "cell_type": "code",
   "execution_count": 4,
   "id": "dcb37e76-375f-4e19-9bdf-e0e91fca0d03",
   "metadata": {
    "execution": {
     "iopub.execute_input": "2024-11-11T14:46:52.094120Z",
     "iopub.status.busy": "2024-11-11T14:46:52.093783Z",
     "iopub.status.idle": "2024-11-11T14:46:55.035305Z",
     "shell.execute_reply": "2024-11-11T14:46:55.034459Z",
     "shell.execute_reply.started": "2024-11-11T14:46:52.094094Z"
    }
   },
   "outputs": [],
   "source": [
    "user_prompt = \"Word: 'MINOR' | Style: 'Luxary party'\"\n",
    "\n",
    "prompt = gpt._ask_gpt(user_prompt=user_prompt, system_prompt=gpt_prompts.system_promt_for_prize_words)"
   ]
  },
  {
   "cell_type": "code",
   "execution_count": null,
   "id": "d8deecea-80d2-42e5-9687-6f0c4c8631dd",
   "metadata": {},
   "outputs": [],
   "source": []
  },
  {
   "cell_type": "code",
   "execution_count": 10,
   "id": "06282d92-4e0f-4730-b0e0-c19eed68032e",
   "metadata": {
    "execution": {
     "iopub.execute_input": "2024-11-11T14:48:41.223564Z",
     "iopub.status.busy": "2024-11-11T14:48:41.223193Z",
     "iopub.status.idle": "2024-11-11T14:48:41.227795Z",
     "shell.execute_reply": "2024-11-11T14:48:41.227071Z",
     "shell.execute_reply.started": "2024-11-11T14:48:41.223532Z"
    }
   },
   "outputs": [],
   "source": [
    "js_prompt = json.loads(prompt.choices[0].message.content)"
   ]
  },
  {
   "cell_type": "code",
   "execution_count": 11,
   "id": "38bbce2c-64ab-4468-ad00-2b327e9a7b00",
   "metadata": {
    "execution": {
     "iopub.execute_input": "2024-11-11T14:48:46.641961Z",
     "iopub.status.busy": "2024-11-11T14:48:46.641595Z",
     "iopub.status.idle": "2024-11-11T14:48:46.646985Z",
     "shell.execute_reply": "2024-11-11T14:48:46.646277Z",
     "shell.execute_reply.started": "2024-11-11T14:48:46.641930Z"
    }
   },
   "outputs": [
    {
     "data": {
      "text/plain": [
       "{'word': 'MINOR',\n",
       " 'style': 'Luxury Party',\n",
       " 'prompt': \"Design the word 'MINOR' in an elegant, opulent style suited for a luxury party theme. The letters should be crafted in a sophisticated, cursive gold font with shimmering textures, reflecting light as if adorned with diamonds. Surround the text with delicate, sparkling confetti and soft, ethereal feathers, evoking a sense of glamour and festivities. The background should remain fully white, allowing the luxurious gold text and decorative elements to stand out vibrantly.\"}"
      ]
     },
     "execution_count": 11,
     "metadata": {},
     "output_type": "execute_result"
    }
   ],
   "source": [
    "js_prompt"
   ]
  },
  {
   "cell_type": "code",
   "execution_count": 12,
   "id": "2d3f0396-9878-4ee3-95ec-e7005f282881",
   "metadata": {
    "execution": {
     "iopub.execute_input": "2024-11-11T14:48:56.152311Z",
     "iopub.status.busy": "2024-11-11T14:48:56.151945Z",
     "iopub.status.idle": "2024-11-11T14:48:56.157278Z",
     "shell.execute_reply": "2024-11-11T14:48:56.156596Z",
     "shell.execute_reply.started": "2024-11-11T14:48:56.152281Z"
    }
   },
   "outputs": [
    {
     "data": {
      "text/plain": [
       "\"Design the word 'MINOR' in an elegant, opulent style suited for a luxury party theme. The letters should be crafted in a sophisticated, cursive gold font with shimmering textures, reflecting light as if adorned with diamonds. Surround the text with delicate, sparkling confetti and soft, ethereal feathers, evoking a sense of glamour and festivities. The background should remain fully white, allowing the luxurious gold text and decorative elements to stand out vibrantly.\""
      ]
     },
     "execution_count": 12,
     "metadata": {},
     "output_type": "execute_result"
    }
   ],
   "source": [
    "js_prompt['prompt']"
   ]
  },
  {
   "cell_type": "code",
   "execution_count": null,
   "id": "e8fca3a0-9263-4ce0-9289-54563214f9e6",
   "metadata": {},
   "outputs": [],
   "source": []
  }
 ],
 "metadata": {
  "kernelspec": {
   "display_name": "Python 3 (ipykernel)",
   "language": "python",
   "name": "python3"
  },
  "language_info": {
   "codemirror_mode": {
    "name": "ipython",
    "version": 3
   },
   "file_extension": ".py",
   "mimetype": "text/x-python",
   "name": "python",
   "nbconvert_exporter": "python",
   "pygments_lexer": "ipython3",
   "version": "3.10.14"
  }
 },
 "nbformat": 4,
 "nbformat_minor": 5
}
