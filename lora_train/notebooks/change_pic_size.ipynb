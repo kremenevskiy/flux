{
 "cells": [
  {
   "cell_type": "code",
   "execution_count": null,
   "metadata": {},
   "outputs": [],
   "source": [
    "import torch\n",
    "from controlnet_aux import CannyDetector\n",
    "from diffusers import FluxControlPipeline\n",
    "from diffusers.utils import load_image"
   ]
  },
  {
   "cell_type": "code",
   "execution_count": null,
   "metadata": {},
   "outputs": [],
   "source": [
    "pipe = FluxControlPipeline.from_pretrained(\"black-forest-labs/FLUX.1-dev\", torch_dtype=torch.bfloat16).to(\"cuda\")\n",
    "pipe.load_lora_weights(\"black-forest-labs/FLUX.1-Canny-dev-lora\", adapter_name=\"canny\")\n",
    "pipe.set_adapters(\"canny\", 0.85)"
   ]
  },
  {
   "cell_type": "code",
   "execution_count": null,
   "metadata": {},
   "outputs": [],
   "source": []
  },
  {
   "cell_type": "code",
   "execution_count": null,
   "metadata": {},
   "outputs": [],
   "source": []
  },
  {
   "cell_type": "code",
   "execution_count": null,
   "metadata": {},
   "outputs": [],
   "source": [
    "def resize_image(image, )"
   ]
  },
  {
   "cell_type": "code",
   "execution_count": null,
   "metadata": {},
   "outputs": [],
   "source": []
  },
  {
   "cell_type": "code",
   "execution_count": null,
   "metadata": {},
   "outputs": [],
   "source": []
  },
  {
   "cell_type": "code",
   "execution_count": null,
   "metadata": {},
   "outputs": [],
   "source": [
    "prompt = \"A robot made of exotic candies and chocolates of different kinds. The background is filled with confetti and celebratory gifts.\"\n",
    "control_image = load_image(\"https://huggingface.co/datasets/huggingface/documentation-images/resolve/main/robot.png\")\n",
    "\n",
    "processor = CannyDetector()\n",
    "control_image = processor(control_image, low_threshold=50, high_threshold=200, detect_resolution=1024, image_resolution=1024)\n",
    "\n",
    "image = pipe(\n",
    "    prompt=prompt,\n",
    "    control_image=control_image,\n",
    "    height=1024,\n",
    "    width=1024,\n",
    "    num_inference_steps=50,\n",
    "    guidance_scale=30.0,\n",
    ").images[0]\n",
    "image"
   ]
  },
  {
   "cell_type": "code",
   "execution_count": null,
   "metadata": {},
   "outputs": [],
   "source": [
    "import torch\n",
    "from diffusers import FluxFillPipeline\n",
    "from diffusers.utils import load_image\n",
    "\n",
    "image = load_image(\"https://huggingface.co/datasets/diffusers/diffusers-images-docs/resolve/main/cup.png\")\n",
    "mask = load_image(\"https://huggingface.co/datasets/diffusers/diffusers-images-docs/resolve/main/cup_mask.png\")\n",
    "\n",
    "pipe = FluxFillPipeline.from_pretrained(\"black-forest-labs/FLUX.1-Fill-dev\", torch_dtype=torch.bfloat16).to(\"cuda\")"
   ]
  },
  {
   "cell_type": "code",
   "execution_count": null,
   "metadata": {},
   "outputs": [],
   "source": [
    "\n",
    "image = pipe(\n",
    "    prompt=\"a white paper cup\",\n",
    "    image=image,\n",
    "    mask_image=mask,\n",
    "    height=1632,\n",
    "    width=1232,\n",
    "    guidance_scale=30,\n",
    "    num_inference_steps=10,\n",
    "    max_sequence_length=512,\n",
    "    generator=torch.Generator(\"cpu\").manual_seed(0)\n",
    ").images[0]\n",
    "image.save(f\"flux-fill-dev.png\")"
   ]
  },
  {
   "cell_type": "code",
   "execution_count": 127,
   "metadata": {},
   "outputs": [],
   "source": [
    "def resize_image(image, scale_percent=30):\n",
    "    \"\"\"Resize image by percentage\"\"\"\n",
    "    width = int(image.size[0] * (1 - scale_percent/100))\n",
    "    height = int(image.size[1] * (1 - scale_percent/100))\n",
    "    return image.resize((width, height), Image.Resampling.LANCZOS)\n",
    "\n",
    "def create_image_with_mask(image, target_size=(1024, 1024), mask_percent=30):\n",
    "    \"\"\"Create black background with image and mask\n",
    "    Args:\n",
    "        image: Input image\n",
    "        target_size: Size of output image (width, height)\n",
    "        mask_percent: Percentage of target image that mask will cover\n",
    "    \"\"\"\n",
    "    # Create black background\n",
    "    background = Image.new('RGB', target_size, (0, 0, 0))\n",
    "    \n",
    "    # Calculate position to center the image\n",
    "    x = (target_size[0] - image.size[0]) // 2\n",
    "    y = (target_size[1] - image.size[1]) // 2\n",
    "    \n",
    "    # Calculate mask size based on percentage\n",
    "    mask_width = int(target_size[0] * (mask_percent/100))\n",
    "    mask_height = int(target_size[1] * (mask_percent/100))\n",
    "    \n",
    "    # Create mask (white where image will be, black for background)\n",
    "    mask = Image.new('L', target_size, 255)\n",
    "    \n",
    "    # Calculate mask position to center it\n",
    "    mask_x = (target_size[0] - mask_width) // 2\n",
    "    mask_y = (target_size[1] - mask_height) // 2\n",
    "    \n",
    "    # Create black rectangle in mask\n",
    "    mask.paste(0, (mask_x, mask_y, mask_x + mask_width, mask_y + mask_height))\n",
    "    \n",
    "    # Calculate crop box to get center of image\n",
    "    left = (image.size[0] - mask_width) // 2\n",
    "    top = (image.size[1] - mask_height) // 2\n",
    "    right = left + mask_width\n",
    "    bottom = top + mask_height\n",
    "    \n",
    "    # Crop image from center to mask size\n",
    "    cropped_image = image.crop((left, top, right, bottom))\n",
    "    \n",
    "    # Paste cropped image onto black background at mask position\n",
    "    background.paste(cropped_image, (mask_x, mask_y))\n",
    "    \n",
    "    return background, mask"
   ]
  },
  {
   "cell_type": "code",
   "execution_count": 128,
   "metadata": {},
   "outputs": [],
   "source": [
    "from PIL import Image"
   ]
  },
  {
   "cell_type": "code",
   "execution_count": null,
   "metadata": {},
   "outputs": [],
   "source": [
    "# 1. Load your image\n",
    "image = Image.open('/root/lo.png')\n",
    "\n",
    "# 2. Resize image by 30% smaller\n",
    "resized_image = resize_image(image, scale_percent=5)\n",
    "\n",
    "# 3. Create black background with image and mask\n",
    "final_image, mask = create_image_with_mask(resized_image, target_size=(1024, 1024))\n",
    "final_image.resize((500, 500))"
   ]
  },
  {
   "cell_type": "code",
   "execution_count": null,
   "metadata": {},
   "outputs": [],
   "source": [
    "mask.resize((500, 500))"
   ]
  },
  {
   "cell_type": "code",
   "execution_count": null,
   "metadata": {},
   "outputs": [],
   "source": [
    "# 4. Use with pipeline\n",
    "result = pipe(\n",
    "    prompt=\"A majestic peacock with a dazzling golden tail fully fanned out, featuring gemstone-like red accents on each feather. The peacock has a rich teal and emerald green body, elegant golden and purple wings, and a regal crown of feathers atop its head. It is surrounded by blooming pink and magenta flowers, with glowing petals falling around it. The background is a luxurious deep purple with golden highlights, creating a royal and magical atmosphere. Digital art, fantasy style, ultra-detailed, vibrant colors.\",\n",
    "    image=final_image,\n",
    "    mask_image=mask,\n",
    "    height=512,\n",
    "    width=512,\n",
    "    guidance_scale=30,\n",
    "    num_inference_steps=60,\n",
    "    max_sequence_length=512,\n",
    "    generator=torch.Generator(\"cpu\").manual_seed(0)\n",
    ").images[0]\n",
    "result.save(\"result.png\")"
   ]
  },
  {
   "cell_type": "code",
   "execution_count": null,
   "metadata": {},
   "outputs": [],
   "source": [
    "result"
   ]
  },
  {
   "cell_type": "code",
   "execution_count": null,
   "metadata": {},
   "outputs": [],
   "source": [
    "mask"
   ]
  },
  {
   "cell_type": "code",
   "execution_count": null,
   "metadata": {},
   "outputs": [],
   "source": [
    "image"
   ]
  },
  {
   "cell_type": "code",
   "execution_count": null,
   "metadata": {},
   "outputs": [],
   "source": [
    "import torch\n",
    "from controlnet_aux import CannyDetector\n",
    "from diffusers import FluxControlPipeline\n",
    "from diffusers.utils import load_image\n",
    "\n",
    "pipe = FluxControlPipeline.from_pretrained(\"black-forest-labs/FLUX.1-Canny-dev\", torch_dtype=torch.bfloat16).to(\"cuda\")"
   ]
  },
  {
   "cell_type": "code",
   "execution_count": null,
   "metadata": {},
   "outputs": [],
   "source": [
    "print('hi')"
   ]
  },
  {
   "cell_type": "code",
   "execution_count": null,
   "metadata": {},
   "outputs": [],
   "source": [
    "image_path = '/root/round.jpg'\n",
    "\n",
    "prompt = \"A robot made of exotic candies and chocolates of different kinds. The background is filled with confetti and celebratory gifts.\"\n",
    "control_image = load_image(image_path)\n",
    "\n",
    "processor = CannyDetector()\n",
    "control_image = processor(control_image, low_threshold=50, high_threshold=200, detect_resolution=1024, image_resolution=1024)\n",
    "\n",
    "image = pipe(\n",
    "    prompt=prompt,\n",
    "    control_image=control_image,\n",
    "    controlnet_conditioning_scale=1.0,\n",
    "    height=1024,\n",
    "    width=1024,\n",
    "    num_inference_steps=50,\n",
    "    guidance_scale=30.0,\n",
    ").images[0]\n",
    "image.save(\"output.png\")"
   ]
  },
  {
   "cell_type": "code",
   "execution_count": null,
   "metadata": {},
   "outputs": [],
   "source": [
    "print('hi')"
   ]
  },
  {
   "cell_type": "code",
   "execution_count": null,
   "metadata": {},
   "outputs": [],
   "source": [
    "import torch\n",
    "from diffusers.utils import load_image\n",
    "from diffusers.pipelines.flux.pipeline_flux_controlnet import FluxControlNetPipeline\n",
    "from diffusers.models.controlnet_flux import FluxControlNetModel\n",
    "\n",
    "base_model = 'black-forest-labs/FLUX.1-dev'\n",
    "controlnet_model = 'InstantX/FLUX.1-dev-Controlnet-Canny'\n",
    "controlnet = FluxControlNetModel.from_pretrained(controlnet_model, torch_dtype=torch.bfloat16)\n",
    "pipe = FluxControlNetPipeline.from_pretrained(base_model, controlnet=controlnet, torch_dtype=torch.bfloat16)\n",
    "pipe.to(\"cuda\")"
   ]
  },
  {
   "cell_type": "code",
   "execution_count": 6,
   "metadata": {},
   "outputs": [],
   "source": [
    "from PIL import Image"
   ]
  },
  {
   "cell_type": "code",
   "execution_count": 7,
   "metadata": {},
   "outputs": [],
   "source": [
    "def extend_transparent_background(image, scale=2):\n",
    "    # Open the image\n",
    "    img = image.convert(\"RGB\")\n",
    "    width, height = img.size\n",
    "\n",
    "    # Calculate new size (scale > 1 will make the image canvas larger)\n",
    "    new_width = int(width * scale)\n",
    "    new_height = int(height * scale)\n",
    "\n",
    "    # Create a new white image with the new size\n",
    "    new_img = Image.new(\"RGB\", (new_width, new_height), (255, 255, 255))\n",
    "\n",
    "    # Paste the original image in the center\n",
    "    offset = ((new_width - width) // 2, (new_height - height) // 2)\n",
    "    new_img.paste(img, offset)\n",
    "    return new_img"
   ]
  },
  {
   "cell_type": "code",
   "execution_count": 24,
   "metadata": {},
   "outputs": [],
   "source": [
    "control_image = load_image('/root/round_white.png')"
   ]
  },
  {
   "cell_type": "code",
   "execution_count": null,
   "metadata": {},
   "outputs": [],
   "source": [
    "control_image"
   ]
  },
  {
   "cell_type": "code",
   "execution_count": null,
   "metadata": {},
   "outputs": [],
   "source": []
  },
  {
   "cell_type": "code",
   "execution_count": null,
   "metadata": {},
   "outputs": [],
   "source": []
  },
  {
   "cell_type": "code",
   "execution_count": null,
   "metadata": {},
   "outputs": [],
   "source": [
    "\n",
    "\n",
    "control_image = load_image('/root/round_white.png')\n",
    "control_image = extend_transparent_background(control_image, 2)\n",
    "prompt = \"A majestic, roaring lion with a vibrant, fiery orange mane, sharp teeth, and intense golden eyes. The lion is facing left with its mouth open, exuding power and authority. The background is a warm gradient of red and orange, enhancing the dramatic and regal feel. The style is hyper-realistic with a touch of digital illustration, emphasizing bold lighting and vivid colors.\"\n",
    "image = pipe(\n",
    "    prompt, \n",
    "    control_image=control_image,\n",
    "    controlnet_conditioning_scale=0.2,\n",
    "    num_inference_steps=28, \n",
    "    guidance_scale=3.5,\n",
    ").images[0]"
   ]
  },
  {
   "cell_type": "code",
   "execution_count": null,
   "metadata": {},
   "outputs": [],
   "source": [
    "image.resize((500, 500))"
   ]
  },
  {
   "cell_type": "code",
   "execution_count": null,
   "metadata": {},
   "outputs": [],
   "source": [
    "\n",
    "\n",
    "control_image = load_image('/root/round_white.png')\n",
    "control_image = extend_transparent_background(control_image, 1)\n",
    "prompt = \"A majestic, roaring lion with a vibrant, fiery orange mane, sharp teeth, and intense golden eyes. The lion is facing left with its mouth open, exuding power and authority. The background is a warm gradient of red and orange, enhancing the dramatic and regal feel. The style is hyper-realistic with a touch of digital illustration, emphasizing bold lighting and vivid colors.\"\n",
    "image = pipe(\n",
    "    prompt, \n",
    "    control_image=control_image,\n",
    "    controlnet_conditioning_scale=0.2,\n",
    "    num_inference_steps=28, \n",
    "    guidance_scale=3.5,\n",
    ").images[0]"
   ]
  },
  {
   "cell_type": "code",
   "execution_count": null,
   "metadata": {},
   "outputs": [],
   "source": [
    "image.resize((500, 500))"
   ]
  },
  {
   "cell_type": "code",
   "execution_count": null,
   "metadata": {},
   "outputs": [],
   "source": [
    "\n",
    "\n",
    "control_image = load_image('/root/round_white.png')\n",
    "control_image = extend_transparent_background(control_image, 4)\n",
    "prompt = \"A majestic, roaring lion with a vibrant, fiery orange mane, sharp teeth, and intense golden eyes. The lion is facing left with its mouth open, exuding power and authority. The background is a warm gradient of red and orange, enhancing the dramatic and regal feel. The style is hyper-realistic with a touch of digital illustration, emphasizing bold lighting and vivid colors.\"\n",
    "image = pipe(\n",
    "    prompt, \n",
    "    control_image=control_image,\n",
    "    controlnet_conditioning_scale=0.2,\n",
    "    num_inference_steps=28, \n",
    "    guidance_scale=3.5,\n",
    ").images[0]\n",
    "image.resize((500, 500))"
   ]
  },
  {
   "cell_type": "code",
   "execution_count": null,
   "metadata": {},
   "outputs": [],
   "source": [
    "\n",
    "\n",
    "control_image = load_image('/root/round_white.png')\n",
    "control_image = extend_transparent_background(control_image, 5)\n",
    "prompt = \"A majestic, roaring lion with a vibrant, fiery orange mane, sharp teeth, and intense golden eyes. The lion is facing left with its mouth open, exuding power and authority. The background is a warm gradient of red and orange, enhancing the dramatic and regal feel. The style is hyper-realistic with a touch of digital illustration, emphasizing bold lighting and vivid colors.\"\n",
    "image = pipe(\n",
    "    prompt, \n",
    "    control_image=control_image,\n",
    "    controlnet_conditioning_scale=0.2,\n",
    "    num_inference_steps=28, \n",
    "    guidance_scale=3.5,\n",
    ").images[0]\n",
    "image.resize((500, 500))"
   ]
  },
  {
   "cell_type": "code",
   "execution_count": null,
   "metadata": {},
   "outputs": [],
   "source": [
    "\n",
    "\n",
    "control_image = load_image('/root/round_white.png')\n",
    "control_image = extend_transparent_background(control_image, 8)\n",
    "prompt = \"A majestic, roaring lion with a vibrant, fiery orange mane, sharp teeth, and intense golden eyes. The lion is facing left with its mouth open, exuding power and authority. The background is a warm gradient of red and orange, enhancing the dramatic and regal feel. The style is hyper-realistic with a touch of digital illustration, emphasizing bold lighting and vivid colors.\"\n",
    "image = pipe(\n",
    "    prompt, \n",
    "    control_image=control_image,\n",
    "    controlnet_conditioning_scale=0.2,\n",
    "    num_inference_steps=28, \n",
    "    guidance_scale=3.5,\n",
    ").images[0]\n",
    "image.resize((500, 500))"
   ]
  },
  {
   "cell_type": "code",
   "execution_count": null,
   "metadata": {},
   "outputs": [],
   "source": []
  },
  {
   "cell_type": "code",
   "execution_count": null,
   "metadata": {},
   "outputs": [],
   "source": []
  },
  {
   "cell_type": "code",
   "execution_count": null,
   "metadata": {},
   "outputs": [],
   "source": [
    "image.resize((500, 500))"
   ]
  },
  {
   "cell_type": "code",
   "execution_count": null,
   "metadata": {},
   "outputs": [],
   "source": []
  },
  {
   "cell_type": "code",
   "execution_count": null,
   "metadata": {},
   "outputs": [],
   "source": []
  },
  {
   "cell_type": "code",
   "execution_count": null,
   "metadata": {},
   "outputs": [],
   "source": []
  },
  {
   "cell_type": "code",
   "execution_count": null,
   "metadata": {},
   "outputs": [],
   "source": []
  },
  {
   "cell_type": "code",
   "execution_count": null,
   "metadata": {},
   "outputs": [],
   "source": [
    "image.resize((500, 500))"
   ]
  },
  {
   "cell_type": "code",
   "execution_count": null,
   "metadata": {},
   "outputs": [],
   "source": [
    "import torch\n",
    "from diffusers.utils import load_image\n",
    "from diffusers import FluxControlNetPipeline, FluxControlNetModel\n",
    "\n",
    "base_model = \"black-forest-labs/FLUX.1-dev\"\n",
    "controlnet_model = \"Shakker-Labs/FLUX.1-dev-ControlNet-Depth\"\n",
    "\n"
   ]
  },
  {
   "cell_type": "code",
   "execution_count": 2,
   "metadata": {},
   "outputs": [],
   "source": [
    "controlnet = FluxControlNetModel.from_pretrained(controlnet_model, torch_dtype=torch.bfloat16)"
   ]
  },
  {
   "cell_type": "code",
   "execution_count": null,
   "metadata": {},
   "outputs": [],
   "source": [
    "\n",
    "pipe = FluxControlNetPipeline.from_pretrained(\n",
    "    base_model, controlnet=controlnet, torch_dtype=torch.bfloat16\n",
    ")\n",
    "pipe.to(\"cuda\")\n",
    "\n"
   ]
  },
  {
   "cell_type": "code",
   "execution_count": null,
   "metadata": {},
   "outputs": [],
   "source": [
    "control_image = load_image('/root/round_white.png')\n",
    "control_image = extend_transparent_background(control_image, 1)\n",
    "\n",
    "\n",
    "prompt = \"A majestic peacock with a dazzling golden tail fully fanned out, featuring gemstone-like red accents on each feather. The peacock has a rich teal and emerald green body, elegant golden and purple wings, and a regal crown of feathers atop its head. It is surrounded by blooming pink and magenta flowers, with glowing petals falling around it. The background is a luxurious deep purple with golden highlights, creating a royal and magical atmosphere. Digital art, fantasy style, ultra-detailed, vibrant colors.\"\n",
    "\n",
    "image = pipe(prompt,\n",
    "             control_image=control_image,\n",
    "             controlnet_conditioning_scale=0.2,\n",
    "             width=1024,\n",
    "             height=1024,\n",
    "             num_inference_steps=24,\n",
    "             guidance_scale=3.5,\n",
    ").images[0]"
   ]
  },
  {
   "cell_type": "code",
   "execution_count": null,
   "metadata": {},
   "outputs": [],
   "source": [
    "image.resize((500, 500))"
   ]
  },
  {
   "cell_type": "code",
   "execution_count": null,
   "metadata": {},
   "outputs": [],
   "source": [
    "control_image = load_image('/root/round_white.png')\n",
    "control_image = extend_transparent_background(control_image, 2)\n",
    "\n",
    "\n",
    "prompt = \"A magical glowing book open on a soft, dreamy surface, surrounded by sparkling particles and golden light. The pages emit a warm, enchanting glow with ornate, ancient-style text and decorative borders. Tiny glowing fairies or fireflies hover around the book, enhancing the sense of wonder. The background features a mystical forest with soft-focus trees and a misty, twilight atmosphere. Fantasy art style, richly detailed, magical and whimsical mood.\"\n",
    "\n",
    "image = pipe(prompt,\n",
    "             control_image=control_image,\n",
    "             controlnet_conditioning_scale=0.4,\n",
    "             width=1024,\n",
    "             height=1024,\n",
    "             num_inference_steps=24,\n",
    "             guidance_scale=3.5,\n",
    ").images[0]"
   ]
  },
  {
   "cell_type": "code",
   "execution_count": null,
   "metadata": {},
   "outputs": [],
   "source": [
    "image.resize((500, 500))"
   ]
  },
  {
   "cell_type": "code",
   "execution_count": null,
   "metadata": {},
   "outputs": [],
   "source": [
    "control_image = load_image('/root/round_white.png')\n",
    "control_image = extend_transparent_background(control_image, 3)\n",
    "\n",
    "\n",
    "prompt = \"A magical glowing book open on a soft, dreamy surface, surrounded by sparkling particles and golden light. The pages emit a warm, enchanting glow with ornate, ancient-style text and decorative borders. Tiny glowing fairies or fireflies hover around the book, enhancing the sense of wonder. The background features a mystical forest with soft-focus trees and a misty, twilight atmosphere. Fantasy art style, richly detailed, magical and whimsical mood.\"\n",
    "\n",
    "image = pipe(prompt,\n",
    "             control_image=control_image,\n",
    "             controlnet_conditioning_scale=0.3,\n",
    "             width=1024,\n",
    "             height=1024,\n",
    "             num_inference_steps=24,\n",
    "             guidance_scale=3.5,\n",
    ").images[0]\n",
    "image.resize((500, 500))"
   ]
  },
  {
   "cell_type": "code",
   "execution_count": null,
   "metadata": {},
   "outputs": [],
   "source": [
    "control_image = load_image('/root/round_white.png')\n",
    "control_image = extend_transparent_background(control_image, 6)\n",
    "\n",
    "\n",
    "prompt = \"A magical glowing book open on a soft, dreamy surface, surrounded by sparkling particles and golden light. The pages emit a warm, enchanting glow with ornate, ancient-style text and decorative borders. Tiny glowing fairies or fireflies hover around the book, enhancing the sense of wonder. The background features a mystical forest with soft-focus trees and a misty, twilight atmosphere. Fantasy art style, richly detailed, magical and whimsical mood.\"\n",
    "\n",
    "image = pipe(prompt,\n",
    "             control_image=control_image,\n",
    "             controlnet_conditioning_scale=0.3,\n",
    "             width=1024,\n",
    "             height=1024,\n",
    "             num_inference_steps=24,\n",
    "             guidance_scale=3.5,\n",
    ").images[0]\n",
    "image.resize((500, 500))"
   ]
  },
  {
   "cell_type": "code",
   "execution_count": null,
   "metadata": {},
   "outputs": [],
   "source": [
    "control_image"
   ]
  },
  {
   "cell_type": "code",
   "execution_count": null,
   "metadata": {},
   "outputs": [],
   "source": []
  }
 ],
 "metadata": {
  "language_info": {
   "name": "python"
  }
 },
 "nbformat": 4,
 "nbformat_minor": 2
}
