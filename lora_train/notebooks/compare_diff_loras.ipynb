{
 "cells": [
  {
   "cell_type": "code",
   "execution_count": 18,
   "metadata": {},
   "outputs": [],
   "source": [
    "from diffusers import DiffusionPipeline\n",
    "import torch\n",
    "from PIL import Image\n",
    "import matplotlib.pyplot as plt\n"
   ]
  },
  {
   "cell_type": "code",
   "execution_count": null,
   "metadata": {},
   "outputs": [],
   "source": []
  },
  {
   "cell_type": "code",
   "execution_count": null,
   "metadata": {},
   "outputs": [],
   "source": [
    "model_id = 'black-forest-labs/FLUX.1-dev'\n",
    "pipe = DiffusionPipeline.from_pretrained(model_id, torch_dtype=torch.bfloat16).to('cuda')"
   ]
  },
  {
   "cell_type": "code",
   "execution_count": 9,
   "metadata": {},
   "outputs": [],
   "source": [
    "loras_paths_dict = {\n",
    "    'base': None,\n",
    "    '2000': '/root/output/trained_model_a/trained_model_a_000002000.safetensors',\n",
    "    '5000': '/root/output/trained_model_a/trained_model_a_000005000.safetensors',\n",
    "    '10000': '/root/output/trained_model_a/trained_model_a_000010000.safetensors',\n",
    "    '15000': '/root/output/trained_model_a/trained_model_a_000015000.safetensors',\n",
    "    '25000': '/root/output/trained_model_a/trained_model_a_000025000.safetensors',\n",
    "\n",
    "}"
   ]
  },
  {
   "cell_type": "code",
   "execution_count": 51,
   "metadata": {},
   "outputs": [],
   "source": [
    "trigger_word = 'pic_a, luxurious style, gold, high importance, ultra close up'"
   ]
  },
  {
   "cell_type": "code",
   "execution_count": 29,
   "metadata": {},
   "outputs": [],
   "source": [
    "import matplotlib.pyplot as plt\n",
    "\n",
    "def plot_images(images: dict[str, 'Image.Image']):\n",
    "    fig, axes = plt.subplots(1, len(images), figsize=(len(images) * 4, 6), facecolor='black')  # darker background\n",
    "    for i, (name, img) in enumerate(images.items()):\n",
    "        axes[i].imshow(img)\n",
    "        axes[i].set_title(name, color='white')  # white titles for contrast\n",
    "        axes[i].axis('off')  # hide axis\n",
    "        axes[i].set_facecolor('black')  # set image panel background\n",
    "    plt.tight_layout()\n",
    "    plt.show()"
   ]
  },
  {
   "cell_type": "code",
   "execution_count": 54,
   "metadata": {},
   "outputs": [],
   "source": [
    "def inference_with_lora(prompt: str, lora_path: str | None = None):\n",
    "    pipe.unload_lora_weights()\n",
    "    if lora_path:\n",
    "        pipe.load_lora_weights(lora_path, adapter_name=\"high\")\n",
    "        pipe.set_adapters([\"high\"], adapter_weights=[0.9])\n",
    "    prompt = f'{trigger_word}, {prompt}'\n",
    "    image = pipe(prompt=prompt, height=1024, width=1024, num_inference_steps=20, guidance_scale=3.0).images[0]\n",
    "    if lora_path:\n",
    "        pipe.unload_lora_weights()\n",
    "    return image\n",
    "\n"
   ]
  },
  {
   "cell_type": "code",
   "execution_count": null,
   "metadata": {},
   "outputs": [],
   "source": []
  },
  {
   "cell_type": "code",
   "execution_count": 55,
   "metadata": {},
   "outputs": [],
   "source": [
    "def multi_inference(prompt: str, lora_paths: dict[str, str]):\n",
    "    images = {}\n",
    "    for name, lora_path in lora_paths.items():\n",
    "        images[name] = inference_with_lora(prompt, lora_path)\n",
    "    return images"
   ]
  },
  {
   "cell_type": "code",
   "execution_count": null,
   "metadata": {},
   "outputs": [],
   "source": [
    "prompt = 'big size, ultra close up portrait, pica style, luxurious style, gold, high importance, warm tones, slot icon style, ultra close up, Puss in Boots wearing oversized golden hat with ruby feather, ornate scarlet cloak with embroidered lions, holding a glowing rapier encrusted with emeralds, background: tavern fireplace and flickering candlelight — dashing, dangerous, deluxe'\n",
    "\n",
    "imgs = multi_inference(prompt, loras_paths_dict)"
   ]
  },
  {
   "cell_type": "code",
   "execution_count": null,
   "metadata": {},
   "outputs": [],
   "source": [
    "plot_images(imgs)"
   ]
  },
  {
   "cell_type": "code",
   "execution_count": null,
   "metadata": {},
   "outputs": [],
   "source": [
    "prompt = \"pica style, big size, ultra close up portrait, takes up all the space in the image, luxurious style, gold, high importance, slot icon style, warm tones, Golden Elvis-style performer mid-spin with glowing red guitar, star-shaped sunglasses, cape trailing fire and glitter, background: Vegas stage bursting with light and gold coins'ArithmeticErro\"\n",
    "imgs = multi_inference(prompt, loras_paths_dict)\n",
    "plot_images(imgs)\n"
   ]
  },
  {
   "cell_type": "code",
   "execution_count": null,
   "metadata": {},
   "outputs": [],
   "source": [
    "plot_images(imgs)"
   ]
  },
  {
   "cell_type": "code",
   "execution_count": 46,
   "metadata": {},
   "outputs": [],
   "source": [
    "icon_prompts = [\n",
    "    \"A majestic depiction of Harry Potter himself, clad in robes, his iconic round glasses shimmering with radiant glimmers, surrounded by swirling sparks of magic, set against an background of enchanted castle towers.\",\n",
    "    \"Futuristic robot head icon, chrome and blue color scheme, 3D style\",\n",
    "    # \"Vintage camera icon, hand-drawn sketch style, sepia tones\",\n",
    "    # \"Magic potion bottle icon with glowing liquid and sparkles, fantasy theme\",\n",
    "    # \"Cyberpunk eye scanner icon, neon lights and glitch effect\",\n",
    "    # \"Abstract leaf icon made from geometric shapes, eco-friendly theme\",\n",
    "    # \"Retro game controller icon, pixel art style, colorful buttons\",\n",
    "    # \"Crystal gemstone icon with light reflections, RPG inventory style\",\n",
    "    # \"Cute cat face icon with big eyes and pastel colors, kawaii style\",\n",
    "    # \"Mystic rune icon engraved in stone, ancient magical feel\",\n",
    "    # \"Space rocket icon launching with flames and stars, cartoon style\",\n",
    "    # \"Chef hat and spoon icon, minimal design for cooking app\",\n",
    "    # \"Treasure chest icon slightly open with gold coins inside, game style\",\n",
    "    # \"Wi-Fi signal icon made of clouds, sky background, soft aesthetic\",\n",
    "    # \"Time travel portal icon, spiraling clock and vortex colors\",\n",
    "    # \"Notebook and pen icon, flat style, suitable for productivity app\",\n",
    "    # \"Alien face icon with big black eyes, neon green, sci-fi theme\",\n",
    "    # \"Digital brain icon made of circuit lines, AI and tech style\",\n",
    "    # \"Ice cream cone icon melting slightly, colorful and summer vibe\",\n",
    "    # \"Witch hat icon with stars and moon symbols, dark cartoon style\"\n",
    "]\n"
   ]
  },
  {
   "cell_type": "code",
   "execution_count": null,
   "metadata": {},
   "outputs": [],
   "source": [
    "list(loras_paths_dict.values())"
   ]
  },
  {
   "cell_type": "code",
   "execution_count": 48,
   "metadata": {},
   "outputs": [],
   "source": [
    "def inference_with_multiple_prompts(prompts: list[str]):\n",
    "    images = {}\n",
    "    for prompt in prompts:\n",
    "        images[prompt] = multi_inference(prompt, loras_paths_dict)\n",
    "    return images\n",
    "\n"
   ]
  },
  {
   "cell_type": "code",
   "execution_count": null,
   "metadata": {},
   "outputs": [],
   "source": [
    "len(icon_prompts)"
   ]
  },
  {
   "cell_type": "code",
   "execution_count": null,
   "metadata": {},
   "outputs": [],
   "source": [
    "res = inference_with_multiple_prompts(icon_prompts)"
   ]
  },
  {
   "cell_type": "code",
   "execution_count": null,
   "metadata": {},
   "outputs": [],
   "source": [
    "for prompt, images in res.items():\n",
    "    plot_images(images)"
   ]
  },
  {
   "cell_type": "code",
   "execution_count": null,
   "metadata": {},
   "outputs": [],
   "source": []
  }
 ],
 "metadata": {
  "kernelspec": {
   "display_name": "venv",
   "language": "python",
   "name": "python3"
  },
  "language_info": {
   "codemirror_mode": {
    "name": "ipython",
    "version": 3
   },
   "file_extension": ".py",
   "mimetype": "text/x-python",
   "name": "python",
   "nbconvert_exporter": "python",
   "pygments_lexer": "ipython3",
   "version": "3.11.9"
  }
 },
 "nbformat": 4,
 "nbformat_minor": 2
}
